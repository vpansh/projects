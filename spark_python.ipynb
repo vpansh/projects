{
 "cells": [
  {
   "cell_type": "code",
   "execution_count": 1,
   "id": "a792a52c-0aa8-458e-a49c-4b4af0bcfa6c",
   "metadata": {},
   "outputs": [
    {
     "name": "stderr",
     "output_type": "stream",
     "text": [
      "Using Spark's default log4j profile: org/apache/spark/log4j-defaults.properties\n",
      "Setting default log level to \"WARN\".\n",
      "To adjust logging level use sc.setLogLevel(newLevel). For SparkR, use setLogLevel(newLevel).\n",
      "22/03/10 18:50:04 WARN NativeCodeLoader: Unable to load native-hadoop library for your platform... using builtin-java classes where applicable\n"
     ]
    }
   ],
   "source": [
    "from pyspark.sql import SparkSession\n",
    "from pyspark.sql.functions import *\n",
    "\n",
    "spark = SparkSession.\\\n",
    "        builder.\\\n",
    "        appName(\"pyspark-notebook\").\\\n",
    "        master(\"spark://spark-master:7077\").\\\n",
    "        config(\"spark.executor.memory\", \"512m\").\\\n",
    "        getOrCreate()"
   ]
  },
  {
   "cell_type": "code",
   "execution_count": 2,
   "id": "575e79ae-a621-48e3-a8c9-13ee679b59b8",
   "metadata": {},
   "outputs": [
    {
     "name": "stderr",
     "output_type": "stream",
     "text": [
      "                                                                                \r"
     ]
    }
   ],
   "source": [
    "path = \"wp_cwa_index.json\"\n",
    "df = spark.read.json(path)"
   ]
  },
  {
   "cell_type": "code",
   "execution_count": 3,
   "id": "5617bfda-3b15-4a20-901e-e40436ab5cef",
   "metadata": {},
   "outputs": [
    {
     "name": "stdout",
     "output_type": "stream",
     "text": [
      "root\n",
      " |-- columns: array (nullable = true)\n",
      " |    |-- element: string (containsNull = true)\n",
      " |-- description: string (nullable = true)\n",
      " |-- fk_parent_cwa: string (nullable = true)\n",
      " |-- fk_project: string (nullable = true)\n",
      " |-- fk_unit_index: string (nullable = true)\n",
      " |-- idx_project: long (nullable = true)\n",
      " |-- label: string (nullable = true)\n",
      " |-- name: string (nullable = true)\n",
      " |-- pageNum: long (nullable = true)\n",
      " |-- pageSize: long (nullable = true)\n",
      " |-- pk_id: string (nullable = true)\n",
      " |-- records: long (nullable = true)\n",
      " |-- schema: string (nullable = true)\n",
      " |-- tableName: string (nullable = true)\n",
      "\n"
     ]
    }
   ],
   "source": [
    "df.printSchema()"
   ]
  },
  {
   "cell_type": "code",
   "execution_count": 4,
   "id": "3d14f67a-6cad-4da8-b057-964446510e20",
   "metadata": {},
   "outputs": [
    {
     "name": "stdout",
     "output_type": "stream",
     "text": [
      "+--------------------+-------------+-------------+--------------------+-------------+-----------+-------------+-------------+-------+--------+--------------------+-------+-------+------------+\n",
      "|             columns|  description|fk_parent_cwa|          fk_project|fk_unit_index|idx_project|        label|         name|pageNum|pageSize|               pk_id|records| schema|   tableName|\n",
      "+--------------------+-------------+-------------+--------------------+-------------+-----------+-------------+-------------+-------+--------+--------------------+-------+-------+------------+\n",
      "|                null|         null|         null|                null|         null|       null|         null|         null|      1|25000000|                null|      2|wp_core|wp_cwa_index|\n",
      "|[pk_id, idx_proje...|         null|         null|                null|         null|       null|         null|         null|   null|    null|                null|   null|   null|        null|\n",
      "|                null|3P1-01-400ELE|         null|5737698f-f7f8-404...|         null|        168|3P1-01-400ELE|3P1-01-400ELE|   null|    null|093c1008-7c19-4e4...|   null|   null|        null|\n",
      "|                null|3P1-01-573PIP|         null|5737698f-f7f8-404...|         null|        168|3P1-01-573PIP|3P1-01-573PIP|   null|    null|0cbb5517-7aaf-4e1...|   null|   null|        null|\n",
      "+--------------------+-------------+-------------+--------------------+-------------+-----------+-------------+-------------+-------+--------+--------------------+-------+-------+------------+\n",
      "\n"
     ]
    }
   ],
   "source": [
    "df.show(n=6)"
   ]
  },
  {
   "cell_type": "code",
   "execution_count": 5,
   "id": "6f974ea7-220b-499e-9d5d-b5c38049a87a",
   "metadata": {},
   "outputs": [
    {
     "data": {
      "text/plain": [
       "[('columns', 'array<string>'),\n",
       " ('description', 'string'),\n",
       " ('fk_parent_cwa', 'string'),\n",
       " ('fk_project', 'string'),\n",
       " ('fk_unit_index', 'string'),\n",
       " ('idx_project', 'bigint'),\n",
       " ('label', 'string'),\n",
       " ('name', 'string'),\n",
       " ('pageNum', 'bigint'),\n",
       " ('pageSize', 'bigint'),\n",
       " ('pk_id', 'string'),\n",
       " ('records', 'bigint'),\n",
       " ('schema', 'string'),\n",
       " ('tableName', 'string')]"
      ]
     },
     "execution_count": 5,
     "metadata": {},
     "output_type": "execute_result"
    }
   ],
   "source": [
    "df.dtypes"
   ]
  },
  {
   "cell_type": "code",
   "execution_count": 6,
   "id": "c08eff1e-1e70-415b-bc8c-f0f9e69c59d9",
   "metadata": {},
   "outputs": [
    {
     "data": {
      "text/plain": [
       "['columns',\n",
       " 'description',\n",
       " 'fk_parent_cwa',\n",
       " 'fk_project',\n",
       " 'fk_unit_index',\n",
       " 'idx_project',\n",
       " 'label',\n",
       " 'name',\n",
       " 'pageNum',\n",
       " 'pageSize',\n",
       " 'pk_id',\n",
       " 'records',\n",
       " 'schema',\n",
       " 'tableName']"
      ]
     },
     "execution_count": 6,
     "metadata": {},
     "output_type": "execute_result"
    }
   ],
   "source": [
    "df.columns"
   ]
  },
  {
   "cell_type": "code",
   "execution_count": 7,
   "id": "eeb14e38-871e-48a2-8646-ef5967bd29ab",
   "metadata": {},
   "outputs": [],
   "source": [
    "df=df.drop('columns','pageNum', 'pageSize', 'records', 'schema', 'tableName')"
   ]
  },
  {
   "cell_type": "code",
   "execution_count": 8,
   "id": "13b1e9dc-1eb9-47c7-8e6a-00735d672d58",
   "metadata": {},
   "outputs": [],
   "source": [
    "df=df.na.fill(\"Not given\")"
   ]
  },
  {
   "cell_type": "code",
   "execution_count": 9,
   "id": "667c06fb-ccc7-4a92-8cad-08c1ac59d1fc",
   "metadata": {},
   "outputs": [],
   "source": [
    "df=df.na.fill(-1, subset=[\"idx_project\"])"
   ]
  },
  {
   "cell_type": "code",
   "execution_count": 10,
   "id": "9104005b-1567-4906-abc1-c4f8a97f1b7f",
   "metadata": {},
   "outputs": [
    {
     "name": "stdout",
     "output_type": "stream",
     "text": [
      "+-------------+-------------+--------------------+-------------+-----------+-------------+-------------+--------------------+\n",
      "|  description|fk_parent_cwa|          fk_project|fk_unit_index|idx_project|        label|         name|               pk_id|\n",
      "+-------------+-------------+--------------------+-------------+-----------+-------------+-------------+--------------------+\n",
      "|    Not given|    Not given|           Not given|    Not given|         -1|    Not given|    Not given|           Not given|\n",
      "|    Not given|    Not given|           Not given|    Not given|         -1|    Not given|    Not given|           Not given|\n",
      "|3P1-01-400ELE|    Not given|5737698f-f7f8-404...|    Not given|        168|3P1-01-400ELE|3P1-01-400ELE|093c1008-7c19-4e4...|\n",
      "|3P1-01-573PIP|    Not given|5737698f-f7f8-404...|    Not given|        168|3P1-01-573PIP|3P1-01-573PIP|0cbb5517-7aaf-4e1...|\n",
      "+-------------+-------------+--------------------+-------------+-----------+-------------+-------------+--------------------+\n",
      "\n"
     ]
    }
   ],
   "source": [
    "df.show(10)"
   ]
  },
  {
   "cell_type": "code",
   "execution_count": 12,
   "id": "2c47ae8b-5a03-4ed0-9347-c667dc875b21",
   "metadata": {
    "tags": []
   },
   "outputs": [
    {
     "name": "stderr",
     "output_type": "stream",
     "text": [
      "22/03/10 21:03:47 WARN HeartbeatReceiver: Removing executor 1 with no recent heartbeats: 3287604 ms exceeds timeout 120000 ms\n",
      "22/03/10 21:03:48 WARN HeartbeatReceiver: Removing executor 0 with no recent heartbeats: 3288878 ms exceeds timeout 120000 ms\n",
      "22/03/10 21:06:10 ERROR TransportRequestHandler: Error sending result RpcResponse[requestId=6336629561137457681,body=NioManagedBuffer[buf=java.nio.HeapByteBuffer[pos=0 lim=84 cap=128]]] to /172.19.0.15:44096; closing connection\n",
      "io.netty.channel.StacklessClosedChannelException\n",
      "\tat io.netty.channel.AbstractChannel$AbstractUnsafe.write(Object, ChannelPromise)(Unknown Source)\n",
      "22/03/10 21:06:10 ERROR TransportRequestHandler: Error sending result RpcResponse[requestId=6510975085488042348,body=NioManagedBuffer[buf=java.nio.HeapByteBuffer[pos=0 lim=81 cap=156]]] to /172.19.0.14:57028; closing connection\n",
      "io.netty.channel.StacklessClosedChannelException\n",
      "\tat io.netty.channel.AbstractChannel$AbstractUnsafe.write(Object, ChannelPromise)(Unknown Source)\n",
      "22/03/10 21:06:10 ERROR TaskSchedulerImpl: Lost executor 1 on 172.19.0.15: worker lost\n",
      "22/03/10 21:06:10 ERROR TaskSchedulerImpl: Lost executor 0 on 172.19.0.14: worker lost\n"
     ]
    }
   ],
   "source": [
    "df.write.csv('data.csv')"
   ]
  }
 ],
 "metadata": {
  "kernelspec": {
   "display_name": "Python 3 (ipykernel)",
   "language": "python",
   "name": "python3"
  },
  "language_info": {
   "codemirror_mode": {
    "name": "ipython",
    "version": 3
   },
   "file_extension": ".py",
   "mimetype": "text/x-python",
   "name": "python",
   "nbconvert_exporter": "python",
   "pygments_lexer": "ipython3",
   "version": "3.8.10"
  }
 },
 "nbformat": 4,
 "nbformat_minor": 5
}
