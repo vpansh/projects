{
 "cells": [
  {
   "cell_type": "code",
   "execution_count": 1,
   "id": "f85c2b4b",
   "metadata": {},
   "outputs": [],
   "source": [
    "import os\n",
    "import csv\n",
    "from faker import Faker\n",
    "import datetime\n",
    "import pandas as pd\n",
    "import numpy as np"
   ]
  },
  {
   "cell_type": "code",
   "execution_count": 2,
   "id": "f62fb9de",
   "metadata": {},
   "outputs": [
    {
     "name": "stdout",
     "output_type": "stream",
     "text": [
      "Directories exist\n"
     ]
    }
   ],
   "source": [
    "try:\n",
    "    os.makedirs('data_gen')\n",
    "    subfolder_names = ['csv', 'json']\n",
    "    for subfolder_name in subfolder_names:\n",
    "        os.makedirs(os.path.join('data_gen', subfolder_name))\n",
    "except OSError as e:\n",
    "    print(\"Directories exist\")\n",
    "\n",
    "fake = Faker('en_US')"
   ]
  },
  {
   "cell_type": "code",
   "execution_count": 3,
   "id": "48284a9b",
   "metadata": {},
   "outputs": [
    {
     "name": "stdout",
     "output_type": "stream",
     "text": [
      "Fact_support_ticket_event data generation successful!\n"
     ]
    }
   ],
   "source": [
    "def datagen_Fact_support_ticket_event(records_fste, headers_fste):\n",
    "    fake = Faker('en_US')\n",
    "    with open(\"data_generation/Fact_support_ticket_event_data.csv.txt\", 'w') as csvFile:\n",
    "        writer = csv.DictWriter(csvFile, fieldnames=headers_fste)\n",
    "        writer.writeheader()\n",
    "        for i in range(records_fste):\n",
    "            events = ['created', 'solved', 'reopened']\n",
    "            event_type = np.random.choice(events)\n",
    "            \n",
    "            \n",
    "            writer.writerow({\n",
    "                    \"event_type\": event_type\n",
    "                    })\n",
    "    \n",
    "\n",
    "records_fste = 200\n",
    "headers_fste = [\"event_type\"]\n",
    "datagen_Fact_support_ticket_event(records_fste, headers_fste)\n",
    "df = pd.read_csv (r'data_generation/Fact_support_ticket_event_data.csv.txt')\n",
    "df.to_json (r'data_generation/Fact_support_ticket_event_data.json.txt')\n",
    "print(\"Fact_support_ticket_event data generation successful!\")"
   ]
  },
  {
   "cell_type": "code",
   "execution_count": 4,
   "id": "2620dce8",
   "metadata": {},
   "outputs": [
    {
     "name": "stdout",
     "output_type": "stream",
     "text": [
      "Fact_events data generation successful!\n"
     ]
    }
   ],
   "source": [
    "def FACT_events(records_fev, headers_fev):\n",
    "    fake = Faker('en_US')\n",
    "    with open(\"data_gen/csv/FACT_events.csv\", 'w') as csvFile:\n",
    "        writer = csv.DictWriter(csvFile, fieldnames=headers_fev)\n",
    "        writer.writeheader()\n",
    "        for i in range(records_fev):\n",
    "            DIM_user_key = fake.pyint(min_value=1, max_value=200)\n",
    "            DIM_item_key = fake.pyint(min_value=1, max_value=200)\n",
    "            DIM_device_key = fake.pyint(min_value=1, max_value=200)\n",
    "            events = ['open_application', 'add_to_favorites', 'add_to_cart', 'show_item_info', 'open_item_page', 'purchase_completed', 'close_application']\n",
    "            event_type = np.random.choice(events)\n",
    "            payload = '' \n",
    "            if event_type == 'open_application':\n",
    "                payload = 'startup_page'\n",
    "            elif event_type == 'search':\n",
    "                payload = np.random.choice(['request', 'filter'])\n",
    "            elif event_type == 'purchase_completed':\n",
    "                payload = np.random.choice(['payment_method', 'order_id'])\n",
    "                \n",
    "            timestamp = fake.date_time_between(datetime.date(2021, 1, 1))\n",
    "            date = timestamp.date()\n",
    "            year = date.strftime(\"%Y\")\n",
    "            month_number = date.strftime(\"%m\")\n",
    "            day_of_the_month = date.strftime(\"%d\")\n",
    "            hour = timestamp.strftime(\"%H:%M:%S\")[0:2]\n",
    "            minute = timestamp.strftime(\"%H:%M:%S\")[3:5]\n",
    "            second = timestamp.strftime(\"%H:%M:%S\")[6:8]\n",
    "            DIM_date_key = year+month_number+day_of_the_month\n",
    "            DIM_time_key = hour+minute+second\n",
    "            writer.writerow({\n",
    "                    \"DIM_user_key\": DIM_user_key,\n",
    "                    \"DIM_item_key\": DIM_item_key,\n",
    "                    \"DIM_device_key\": DIM_device_key,\n",
    "                    \"event_type\": event_type,\n",
    "                    \"payload\": payload,\n",
    "                    \"DIM_date_key\": DIM_date_key, \n",
    "                    \"DIM_time_key\": DIM_time_key\n",
    "                    })\n",
    "            \n",
    "\n",
    "records_fev = 200\n",
    "headers_fev = [\"DIM_user_key\", \"DIM_item_key\", \"DIM_device_key\", \"event_type\", \"payload\", \"DIM_date_key\", \"DIM_time_key\"]\n",
    "FACT_events(records_fev, headers_fev)\n",
    "df = pd.read_csv(\"data_gen/csv/FACT_events.csv\")\n",
    "df.to_json (r'data_gen/json/FACT_events.json', orient=\"records\")\n",
    "print(\"Fact_events data generation successful!\")"
   ]
  },
  {
   "cell_type": "code",
   "execution_count": 5,
   "id": "406d9c37",
   "metadata": {},
   "outputs": [
    {
     "name": "stdout",
     "output_type": "stream",
     "text": [
      "FACT_user_ad_action data generation successful!\n"
     ]
    }
   ],
   "source": [
    "def FACT_user_ad_action(records_fste, headers_fste):\n",
    "    fake = Faker('en_US')\n",
    "    with open(\"data_generation/FACT_user_ad_action.csv\", 'w') as csvFile:\n",
    "        writer = csv.DictWriter(csvFile, fieldnames=headers_fste)\n",
    "        writer.writeheader()\n",
    "        for i in range(records_fste):\n",
    "            events = ['view', 'click']\n",
    "            ad_type = np.random.choice(events)\n",
    "            ad_id = fake.pyint(min_value=1, max_value=200)\n",
    "            DIM_user_key = fake.pyint(min_value=1, max_value=200)\n",
    "            DIM_device_key = fake.pyint(min_value=1, max_value=200)\n",
    "            \n",
    "            timestamp = fake.date_time_between(datetime.date(2021, 1, 1))\n",
    "            date = timestamp.date()\n",
    "            year = date.strftime(\"%Y\")\n",
    "            month_number = date.strftime(\"%m\")\n",
    "            day_of_the_month = date.strftime(\"%d\")\n",
    "            hour = timestamp.strftime(\"%H:%M:%S\")[0:2]\n",
    "            minute = timestamp.strftime(\"%H:%M:%S\")[3:5]\n",
    "            second = timestamp.strftime(\"%H:%M:%S\")[6:8]\n",
    "            DIM_date_key = year+month_number+day_of_the_month\n",
    "            DIM_time_key = hour+minute+second\n",
    " \n",
    "            \n",
    "            writer.writerow({\n",
    "                    \"ad_id\": ad_id, \n",
    "                    \"ad_type\": ad_type, \n",
    "                    \"DIM_user_key\": DIM_user_key, \n",
    "                    \"DIM_device_key\": DIM_device_key, \n",
    "                    \"DIM_date_key\": DIM_date_key, \n",
    "                    \"DIM_time_key\": DIM_time_key})\n",
    "    \n",
    "\n",
    "records_fste = 200\n",
    "headers_fste = [\"ad_id\", \"ad_type\", \"DIM_user_key\", \"DIM_device_key\", \"DIM_date_key\", \"DIM_time_key\"]\n",
    "FACT_user_ad_action(records_fste, headers_fste)\n",
    "df = pd.read_csv (r'data_generation/FACT_user_ad_action.csv')\n",
    "df.to_json (r'data_generation/FACT_user_ad_action.json', orient=\"records\")\n",
    "print(\"FACT_user_ad_action data generation successful!\")"
   ]
  }
 ],
 "metadata": {
  "kernelspec": {
   "display_name": "Python 3 (ipykernel)",
   "language": "python",
   "name": "python3"
  },
  "language_info": {
   "codemirror_mode": {
    "name": "ipython",
    "version": 3
   },
   "file_extension": ".py",
   "mimetype": "text/x-python",
   "name": "python",
   "nbconvert_exporter": "python",
   "pygments_lexer": "ipython3",
   "version": "3.9.7"
  }
 },
 "nbformat": 4,
 "nbformat_minor": 5
}
